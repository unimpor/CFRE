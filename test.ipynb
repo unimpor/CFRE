{
 "cells": [
  {
   "cell_type": "markdown",
   "source": [
    "<s>[INST]Based on the following triplets from a knowledge graph, please answer the given question. Please keep the answers as simple as possible and return all the possible answers as a list.\n",
    "\n",
    "Triplets:\n",
    "xxx\n",
    "xxx\n",
    "xxx\n",
    "xxx\n",
    "\n",
    "Question:\n",
    "xxx?[/INST]xxxx</s>"
   ],
   "metadata": {
    "collapsed": false,
    "pycharm": {
     "name": "#%% md\n"
    }
   }
  },
  {
   "cell_type": "markdown",
   "source": [
    "bos + bos_inst + inst + triplet + query + eos_inst + labels + eos"
   ],
   "metadata": {
    "collapsed": false,
    "pycharm": {
     "name": "#%% md\n"
    }
   }
  },
  {
   "cell_type": "code",
   "execution_count": 43,
   "outputs": [],
   "source": [
    "import torch\n",
    "# https://github.com/mufeili/LTRoG/tree/dev_mufei/scored_triples\n",
    "data = torch.load(\"./samples/cwq_240905_val.pth\")"
   ],
   "metadata": {
    "collapsed": false,
    "pycharm": {
     "name": "#%%\n"
    }
   }
  },
  {
   "cell_type": "code",
   "execution_count": 44,
   "outputs": [],
   "source": [
    "sample_scored_823 = data['WebQTest-823_ed31f9dd431831dbd32a06b958c7c97c']"
   ],
   "metadata": {
    "collapsed": false,
    "pycharm": {
     "name": "#%%\n"
    }
   }
  },
  {
   "cell_type": "code",
   "execution_count": 45,
   "outputs": [],
   "source": [
    "import pickle\n",
    "with open('samples/cwq_val_org.pkl', 'rb') as f:\n",
    "    data_org = pickle.load(f)"
   ],
   "metadata": {
    "collapsed": false,
    "pycharm": {
     "name": "#%%\n"
    }
   }
  },
  {
   "cell_type": "code",
   "execution_count": 46,
   "outputs": [],
   "source": [
    "for item in data_org:\n",
    "    if item['id'] == 'WebQTest-823_ed31f9dd431831dbd32a06b958c7c97c':\n",
    "        data_item = item"
   ],
   "metadata": {
    "collapsed": false,
    "pycharm": {
     "name": "#%%\n"
    }
   }
  },
  {
   "cell_type": "code",
   "execution_count": 53,
   "outputs": [
    {
     "data": {
      "text/plain": "(500, 500, 500)"
     },
     "execution_count": 53,
     "metadata": {},
     "output_type": "execute_result"
    }
   ],
   "source": [
    "fh_id_list, fr_id_list, ft_id_list = [], [], []\n",
    "\n",
    "# TODO: check `scored_triplets` is pre-sorted.\n",
    "scored_triplets = sample_scored_823['scored_triples']\n",
    "assert len(scored_triplets) == len(data_item[\"h_id_list\"])\n",
    "filtered_triplets = [(t[0], t[1], t[2]) for idx, t in enumerate(scored_triplets) if idx < 500]\n",
    "# print(filtered_triplets)\n",
    "# TODO: check if it is correct.\n",
    "entity_list = data_item['text_entity_list'] + data_item['non_text_entity_list']\n",
    "relation_list = data_item['relation_list']\n",
    "\n",
    "for h_id, r_id, t_id in zip(data_item['h_id_list'], data_item['r_id_list'], data_item['t_id_list']):\n",
    "    h, r, t = entity_list[h_id], relation_list[r_id], entity_list[t_id]\n",
    "    if (h,r,t) in filtered_triplets:\n",
    "        fh_id_list.append(h)\n",
    "        fr_id_list.append(r)\n",
    "        ft_id_list.append(t)\n",
    "\n",
    "len(fh_id_list), len(fr_id_list), len(ft_id_list)"
   ],
   "metadata": {
    "collapsed": false,
    "pycharm": {
     "name": "#%%\n"
    }
   }
  },
  {
   "cell_type": "code",
   "execution_count": 30,
   "outputs": [
    {
     "data": {
      "text/plain": "tensor([0., 0., 0., 1.])"
     },
     "execution_count": 30,
     "metadata": {},
     "output_type": "execute_result"
    }
   ],
   "source": [
    "from torch.nn.functional import gumbel_softmax\n",
    "logits = torch.tensor([0.3, 0.5, 0.9, 3.3])\n",
    "gumbel_softmax(logits, hard=True)"
   ],
   "metadata": {
    "collapsed": false,
    "pycharm": {
     "name": "#%%\n"
    }
   }
  },
  {
   "cell_type": "code",
   "execution_count": 32,
   "outputs": [
    {
     "name": "stdout",
     "output_type": "stream",
     "text": [
      "tensor([3, 4, 2])\n",
      "tensor([3, 4, 2])\n"
     ]
    }
   ],
   "source": [
    "import torch\n",
    "\n",
    "# 示例张量\n",
    "tensor = torch.tensor([3, 1, 5, 9, 7])\n",
    "\n",
    "# 找出前3大值，sorted=False\n",
    "values, indices = tensor.topk(3, sorted=False)\n",
    "print(indices)  # 输出: tensor([7, 9, 5])，顺序不固定\n",
    "\n",
    "# 找出前3大值，sorted=True\n",
    "values, indices = tensor.topk(3, sorted=True)\n",
    "print(indices)  # 输出: tensor([9, 7, 5])，按降序排列\n"
   ],
   "metadata": {
    "collapsed": false,
    "pycharm": {
     "name": "#%%\n"
    }
   }
  },
  {
   "cell_type": "code",
   "execution_count": 1,
   "outputs": [],
   "source": [
    "import torch"
   ],
   "metadata": {
    "collapsed": false,
    "pycharm": {
     "name": "#%%\n"
    }
   }
  },
  {
   "cell_type": "code",
   "execution_count": 7,
   "outputs": [
    {
     "data": {
      "text/plain": "['WebQTest-1264',\n 'WebQTest-1265',\n 'WebQTest-1266',\n 'WebQTest-1267',\n 'WebQTest-1268',\n 'WebQTest-1269',\n 'WebQTest-1270',\n 'WebQTest-1271',\n 'WebQTest-1272',\n 'WebQTest-1274',\n 'WebQTest-1275',\n 'WebQTest-1276',\n 'WebQTest-1277',\n 'WebQTest-1278',\n 'WebQTest-1279',\n 'WebQTest-1280',\n 'WebQTest-1281',\n 'WebQTest-1282',\n 'WebQTest-1284',\n 'WebQTest-1285',\n 'WebQTest-1287',\n 'WebQTest-1289',\n 'WebQTest-1291',\n 'WebQTest-1292',\n 'WebQTest-1293',\n 'WebQTest-1294',\n 'WebQTest-1295',\n 'WebQTest-1296',\n 'WebQTest-1297',\n 'WebQTest-1298',\n 'WebQTest-1300',\n 'WebQTest-1301',\n 'WebQTest-1303',\n 'WebQTest-1304',\n 'WebQTest-1305',\n 'WebQTest-1306',\n 'WebQTest-1307',\n 'WebQTest-1308',\n 'WebQTest-1309',\n 'WebQTest-1310',\n 'WebQTest-1311',\n 'WebQTest-1312',\n 'WebQTest-1313',\n 'WebQTest-1314',\n 'WebQTest-1316',\n 'WebQTest-1317',\n 'WebQTest-1319',\n 'WebQTest-1320',\n 'WebQTest-1321',\n 'WebQTest-1322',\n 'WebQTest-1323',\n 'WebQTest-1324',\n 'WebQTest-1325',\n 'WebQTest-1326',\n 'WebQTest-1327',\n 'WebQTest-1328',\n 'WebQTest-1329',\n 'WebQTest-1330',\n 'WebQTest-1331',\n 'WebQTest-1332',\n 'WebQTest-1333',\n 'WebQTest-1334',\n 'WebQTest-1335',\n 'WebQTest-1336',\n 'WebQTest-1337',\n 'WebQTest-1339',\n 'WebQTest-1340',\n 'WebQTest-1341',\n 'WebQTest-1342',\n 'WebQTest-1343',\n 'WebQTest-1344',\n 'WebQTest-1348',\n 'WebQTest-1350',\n 'WebQTest-1351',\n 'WebQTest-1353',\n 'WebQTest-1354',\n 'WebQTest-1355',\n 'WebQTest-1356',\n 'WebQTest-1357',\n 'WebQTest-1358',\n 'WebQTest-1359',\n 'WebQTest-1361',\n 'WebQTest-1362',\n 'WebQTest-1363',\n 'WebQTest-1364',\n 'WebQTest-1365',\n 'WebQTest-1366',\n 'WebQTest-1367',\n 'WebQTest-1368',\n 'WebQTest-1369',\n 'WebQTest-1370',\n 'WebQTest-1373',\n 'WebQTest-1374',\n 'WebQTest-1376',\n 'WebQTest-1378',\n 'WebQTest-1379',\n 'WebQTest-1380',\n 'WebQTest-1381',\n 'WebQTest-1382',\n 'WebQTest-1383',\n 'WebQTest-1384',\n 'WebQTest-1385',\n 'WebQTest-1387',\n 'WebQTest-1388',\n 'WebQTest-1389',\n 'WebQTest-1390',\n 'WebQTest-1392',\n 'WebQTest-1394',\n 'WebQTest-1395',\n 'WebQTest-1396',\n 'WebQTest-1398',\n 'WebQTest-1399',\n 'WebQTest-1402',\n 'WebQTest-1403',\n 'WebQTest-1405',\n 'WebQTest-1408',\n 'WebQTest-1409',\n 'WebQTest-1410',\n 'WebQTest-1414',\n 'WebQTest-1416',\n 'WebQTest-1417',\n 'WebQTest-1418',\n 'WebQTest-1419',\n 'WebQTest-1420',\n 'WebQTest-1421',\n 'WebQTest-1422',\n 'WebQTest-1423',\n 'WebQTest-1424',\n 'WebQTest-1425',\n 'WebQTest-1426',\n 'WebQTest-1427',\n 'WebQTest-1428',\n 'WebQTest-1429',\n 'WebQTest-1432',\n 'WebQTest-1433',\n 'WebQTest-1434',\n 'WebQTest-1435',\n 'WebQTest-1436',\n 'WebQTest-1441',\n 'WebQTest-1442',\n 'WebQTest-1443',\n 'WebQTest-1445',\n 'WebQTest-1446',\n 'WebQTest-1447',\n 'WebQTest-1448',\n 'WebQTest-1449',\n 'WebQTest-1452',\n 'WebQTest-1453',\n 'WebQTest-1454',\n 'WebQTest-1455',\n 'WebQTest-1456',\n 'WebQTest-1457',\n 'WebQTest-1458',\n 'WebQTest-1459',\n 'WebQTest-1460',\n 'WebQTest-1461',\n 'WebQTest-1462',\n 'WebQTest-1463',\n 'WebQTest-1464',\n 'WebQTest-1465',\n 'WebQTest-1467',\n 'WebQTest-1468',\n 'WebQTest-1470',\n 'WebQTest-1471',\n 'WebQTest-1472',\n 'WebQTest-1473',\n 'WebQTest-1475',\n 'WebQTest-1477',\n 'WebQTest-1478',\n 'WebQTest-1479',\n 'WebQTest-1480',\n 'WebQTest-1481',\n 'WebQTest-1482',\n 'WebQTest-1483',\n 'WebQTest-1484',\n 'WebQTest-1485',\n 'WebQTest-1486',\n 'WebQTest-1487',\n 'WebQTest-1488',\n 'WebQTest-1489',\n 'WebQTest-1490',\n 'WebQTest-1493',\n 'WebQTest-1494',\n 'WebQTest-1495',\n 'WebQTest-1496',\n 'WebQTest-1499',\n 'WebQTest-1500',\n 'WebQTest-1501',\n 'WebQTest-1502',\n 'WebQTest-1503',\n 'WebQTest-1504',\n 'WebQTest-1506',\n 'WebQTest-1507',\n 'WebQTest-1508',\n 'WebQTest-1510',\n 'WebQTest-1513',\n 'WebQTest-1515',\n 'WebQTest-1516',\n 'WebQTest-1518',\n 'WebQTest-1519',\n 'WebQTest-1520',\n 'WebQTest-1522',\n 'WebQTest-1523',\n 'WebQTest-1524',\n 'WebQTest-1525',\n 'WebQTest-1526',\n 'WebQTest-1527',\n 'WebQTest-1528',\n 'WebQTest-1529',\n 'WebQTest-1531',\n 'WebQTest-1533',\n 'WebQTest-1534',\n 'WebQTest-1535',\n 'WebQTest-1536',\n 'WebQTest-1537',\n 'WebQTest-1538',\n 'WebQTest-1539',\n 'WebQTest-1540',\n 'WebQTest-1541',\n 'WebQTest-1542',\n 'WebQTest-1543',\n 'WebQTest-1544',\n 'WebQTest-1546',\n 'WebQTest-1547',\n 'WebQTest-1548',\n 'WebQTest-1550',\n 'WebQTest-1551',\n 'WebQTest-1553',\n 'WebQTest-1554',\n 'WebQTest-1555',\n 'WebQTest-1556',\n 'WebQTest-1557',\n 'WebQTest-1558',\n 'WebQTest-1559',\n 'WebQTest-1560',\n 'WebQTest-1561',\n 'WebQTest-1562',\n 'WebQTest-1563',\n 'WebQTest-1564',\n 'WebQTest-1565',\n 'WebQTest-1566',\n 'WebQTest-1567',\n 'WebQTest-1568',\n 'WebQTest-1569',\n 'WebQTest-1570',\n 'WebQTest-1571',\n 'WebQTest-1572',\n 'WebQTest-1573',\n 'WebQTest-1574',\n 'WebQTest-1575',\n 'WebQTest-1577',\n 'WebQTest-1580',\n 'WebQTest-1582',\n 'WebQTest-1583',\n 'WebQTest-1584',\n 'WebQTest-1585',\n 'WebQTest-1586',\n 'WebQTest-1587',\n 'WebQTest-1589',\n 'WebQTest-1590',\n 'WebQTest-1591',\n 'WebQTest-1592',\n 'WebQTest-1593',\n 'WebQTest-1595',\n 'WebQTest-1596',\n 'WebQTest-1597',\n 'WebQTest-1598',\n 'WebQTest-1599',\n 'WebQTest-1603',\n 'WebQTest-1604',\n 'WebQTest-1607',\n 'WebQTest-1608',\n 'WebQTest-1609',\n 'WebQTest-1610',\n 'WebQTest-1611',\n 'WebQTest-1612',\n 'WebQTest-1613',\n 'WebQTest-1614',\n 'WebQTest-1615',\n 'WebQTest-1616',\n 'WebQTest-1617',\n 'WebQTest-1618',\n 'WebQTest-1619',\n 'WebQTest-1620',\n 'WebQTest-1621',\n 'WebQTest-1622',\n 'WebQTest-1623',\n 'WebQTest-1624',\n 'WebQTest-1625',\n 'WebQTest-1626',\n 'WebQTest-1627',\n 'WebQTest-1628',\n 'WebQTest-1629',\n 'WebQTest-1630',\n 'WebQTest-1631',\n 'WebQTest-1632',\n 'WebQTest-1633',\n 'WebQTest-1634',\n 'WebQTest-1635',\n 'WebQTest-1637',\n 'WebQTest-1638',\n 'WebQTest-1639',\n 'WebQTest-1640',\n 'WebQTest-1641',\n 'WebQTest-1643',\n 'WebQTest-1644',\n 'WebQTest-1646',\n 'WebQTest-1648',\n 'WebQTest-1649',\n 'WebQTest-1650',\n 'WebQTest-1652',\n 'WebQTest-1653',\n 'WebQTest-1654',\n 'WebQTest-1655',\n 'WebQTest-1656',\n 'WebQTest-1657',\n 'WebQTest-1658',\n 'WebQTest-1659',\n 'WebQTest-1661',\n 'WebQTest-1662',\n 'WebQTest-1663',\n 'WebQTest-1664',\n 'WebQTest-1665',\n 'WebQTest-1666',\n 'WebQTest-1667',\n 'WebQTest-1668',\n 'WebQTest-1669',\n 'WebQTest-1670',\n 'WebQTest-1671',\n 'WebQTest-1672',\n 'WebQTest-1673',\n 'WebQTest-1674',\n 'WebQTest-1675',\n 'WebQTest-1676',\n 'WebQTest-1677',\n 'WebQTest-1678',\n 'WebQTest-1679',\n 'WebQTest-1680',\n 'WebQTest-1682',\n 'WebQTest-1683',\n 'WebQTest-1684',\n 'WebQTest-1685',\n 'WebQTest-1686',\n 'WebQTest-1687',\n 'WebQTest-1688',\n 'WebQTest-1690',\n 'WebQTest-1691',\n 'WebQTest-1694',\n 'WebQTest-1695',\n 'WebQTest-1696',\n 'WebQTest-1698',\n 'WebQTest-1699',\n 'WebQTest-1700',\n 'WebQTest-1701',\n 'WebQTest-1702',\n 'WebQTest-1705',\n 'WebQTest-1706',\n 'WebQTest-1707',\n 'WebQTest-1708',\n 'WebQTest-1710',\n 'WebQTest-1711',\n 'WebQTest-1712',\n 'WebQTest-1713',\n 'WebQTest-1714',\n 'WebQTest-1715',\n 'WebQTest-1716',\n 'WebQTest-1719',\n 'WebQTest-1721',\n 'WebQTest-1723',\n 'WebQTest-1724',\n 'WebQTest-1725',\n 'WebQTest-1726',\n 'WebQTest-1727',\n 'WebQTest-1728',\n 'WebQTest-1729',\n 'WebQTest-1730',\n 'WebQTest-1731',\n 'WebQTest-1732',\n 'WebQTest-1733',\n 'WebQTest-1734',\n 'WebQTest-1735',\n 'WebQTest-1736',\n 'WebQTest-1737',\n 'WebQTest-1738',\n 'WebQTest-1739',\n 'WebQTest-1740',\n 'WebQTest-1741',\n 'WebQTest-1742',\n 'WebQTest-1744',\n 'WebQTest-1746',\n 'WebQTest-1748',\n 'WebQTest-1750',\n 'WebQTest-1751',\n 'WebQTest-1752',\n 'WebQTest-1753',\n 'WebQTest-1754',\n 'WebQTest-1755',\n 'WebQTest-1756',\n 'WebQTest-1757',\n 'WebQTest-1758',\n 'WebQTest-1759',\n 'WebQTest-1760',\n 'WebQTest-1761',\n 'WebQTest-1763',\n 'WebQTest-1764',\n 'WebQTest-1765',\n 'WebQTest-1766',\n 'WebQTest-1767',\n 'WebQTest-1768',\n 'WebQTest-1769',\n 'WebQTest-1770',\n 'WebQTest-1771',\n 'WebQTest-1772',\n 'WebQTest-1773',\n 'WebQTest-1774',\n 'WebQTest-1775',\n 'WebQTest-1776',\n 'WebQTest-1777',\n 'WebQTest-1779',\n 'WebQTest-1780',\n 'WebQTest-1781',\n 'WebQTest-1782',\n 'WebQTest-1784',\n 'WebQTest-1785',\n 'WebQTest-1788',\n 'WebQTest-1789',\n 'WebQTest-1790',\n 'WebQTest-1791',\n 'WebQTest-1792',\n 'WebQTest-1793',\n 'WebQTest-1794',\n 'WebQTest-1795',\n 'WebQTest-1796',\n 'WebQTest-1797',\n 'WebQTest-1799',\n 'WebQTest-1800',\n 'WebQTest-1801',\n 'WebQTest-1802',\n 'WebQTest-1803',\n 'WebQTest-1804',\n 'WebQTest-1805',\n 'WebQTest-1806',\n 'WebQTest-1807',\n 'WebQTest-1808',\n 'WebQTest-1809',\n 'WebQTest-1810',\n 'WebQTest-1811',\n 'WebQTest-1812',\n 'WebQTest-1813',\n 'WebQTest-1815',\n 'WebQTest-1817',\n 'WebQTest-1818',\n 'WebQTest-1819',\n 'WebQTest-1821',\n 'WebQTest-1822',\n 'WebQTest-1823',\n 'WebQTest-1824',\n 'WebQTest-1825',\n 'WebQTest-1826',\n 'WebQTest-1827',\n 'WebQTest-1828',\n 'WebQTest-1829',\n 'WebQTest-1830',\n 'WebQTest-1833',\n 'WebQTest-1835',\n 'WebQTest-1836',\n 'WebQTest-1838',\n 'WebQTest-1839',\n 'WebQTest-1840',\n 'WebQTest-1842',\n 'WebQTest-1843',\n 'WebQTest-1844',\n 'WebQTest-1845',\n 'WebQTest-1847',\n 'WebQTest-1848',\n 'WebQTest-1849',\n 'WebQTest-1850',\n 'WebQTest-1851',\n 'WebQTest-1853',\n 'WebQTest-1854',\n 'WebQTest-1855',\n 'WebQTest-1857',\n 'WebQTest-1858',\n 'WebQTest-1860',\n 'WebQTest-1861',\n 'WebQTest-1864',\n 'WebQTest-1865',\n 'WebQTest-1866',\n 'WebQTest-1868',\n 'WebQTest-1870',\n 'WebQTest-1871',\n 'WebQTest-1873',\n 'WebQTest-1874',\n 'WebQTest-1875',\n 'WebQTest-1876',\n 'WebQTest-1877',\n 'WebQTest-1878',\n 'WebQTest-1879',\n 'WebQTest-1880',\n 'WebQTest-1881',\n 'WebQTest-1882',\n 'WebQTest-1883',\n 'WebQTest-1884',\n 'WebQTest-1885',\n 'WebQTest-1886',\n 'WebQTest-1887',\n 'WebQTest-1888',\n 'WebQTest-1889',\n 'WebQTest-1890',\n 'WebQTest-1891',\n 'WebQTest-1892',\n 'WebQTest-1893',\n 'WebQTest-1894',\n 'WebQTest-1895',\n 'WebQTest-1896',\n 'WebQTest-1897',\n 'WebQTest-1898',\n 'WebQTest-1899',\n 'WebQTest-1900',\n 'WebQTest-1901',\n 'WebQTest-1902',\n 'WebQTest-1904',\n 'WebQTest-1905',\n 'WebQTest-1907',\n 'WebQTest-1909',\n 'WebQTest-1910',\n 'WebQTest-1911',\n 'WebQTest-1912',\n 'WebQTest-1913',\n 'WebQTest-1914',\n 'WebQTest-1915',\n 'WebQTest-1916',\n 'WebQTest-1917',\n 'WebQTest-1919',\n 'WebQTest-1920',\n 'WebQTest-1921',\n 'WebQTest-1922',\n 'WebQTest-1923',\n 'WebQTest-1925',\n 'WebQTest-1926',\n 'WebQTest-1928',\n 'WebQTest-1929',\n 'WebQTest-1932',\n 'WebQTest-1933',\n 'WebQTest-1934',\n 'WebQTest-1935',\n 'WebQTest-1936',\n 'WebQTest-1937',\n 'WebQTest-1938',\n 'WebQTest-1939',\n 'WebQTest-1940',\n 'WebQTest-1941',\n 'WebQTest-1942',\n 'WebQTest-1943',\n 'WebQTest-1944',\n 'WebQTest-1946',\n 'WebQTest-1947',\n 'WebQTest-1950',\n 'WebQTest-1952',\n 'WebQTest-1954',\n 'WebQTest-1955',\n 'WebQTest-1956',\n 'WebQTest-1957',\n 'WebQTest-1958',\n 'WebQTest-1960',\n 'WebQTest-1961',\n 'WebQTest-1962',\n 'WebQTest-1963',\n 'WebQTest-1964',\n 'WebQTest-1965',\n 'WebQTest-1966',\n 'WebQTest-1967',\n 'WebQTest-1968',\n 'WebQTest-1969',\n 'WebQTest-1971',\n 'WebQTest-1972',\n 'WebQTest-1975',\n 'WebQTest-1976',\n 'WebQTest-1977',\n 'WebQTest-1978',\n 'WebQTest-1979',\n 'WebQTest-1981',\n 'WebQTest-1982',\n 'WebQTest-1985',\n 'WebQTest-1986',\n 'WebQTest-1987',\n 'WebQTest-1988',\n 'WebQTest-1990',\n 'WebQTest-1991',\n 'WebQTest-1992',\n 'WebQTest-1993',\n 'WebQTest-1994',\n 'WebQTest-1996',\n 'WebQTest-1997',\n 'WebQTest-1998',\n 'WebQTest-1999',\n 'WebQTest-2000',\n 'WebQTest-2001',\n 'WebQTest-2002',\n 'WebQTest-2003',\n 'WebQTest-2004',\n 'WebQTest-2005',\n 'WebQTest-2006',\n 'WebQTest-2007',\n 'WebQTest-2008',\n 'WebQTest-2009',\n 'WebQTest-2010',\n 'WebQTest-2011',\n 'WebQTest-2012',\n 'WebQTest-2013',\n 'WebQTest-2014',\n 'WebQTest-2015',\n 'WebQTest-2016',\n 'WebQTest-2017',\n 'WebQTest-2018',\n 'WebQTest-2019',\n 'WebQTest-2020',\n 'WebQTest-2021',\n 'WebQTest-2022',\n 'WebQTest-2023',\n 'WebQTest-2024',\n 'WebQTest-2025',\n 'WebQTest-2027',\n 'WebQTest-2028',\n 'WebQTest-2029',\n 'WebQTest-2030',\n 'WebQTest-2031']"
     },
     "execution_count": 7,
     "metadata": {},
     "output_type": "execute_result"
    }
   ],
   "source": [
    "data = torch.load(\"./samples/gpt_labeled_webqsp_cleaned.pt\")\n",
    "[key  for i,key in enumerate(data.keys()) if i > 1000]"
   ],
   "metadata": {
    "collapsed": false,
    "pycharm": {
     "name": "#%%\n"
    }
   }
  },
  {
   "cell_type": "code",
   "execution_count": 44,
   "outputs": [
    {
     "data": {
      "text/plain": "1628"
     },
     "execution_count": 44,
     "metadata": {},
     "output_type": "execute_result"
    }
   ],
   "source": [
    "len(data)"
   ],
   "metadata": {
    "collapsed": false,
    "pycharm": {
     "name": "#%%\n"
    }
   }
  },
  {
   "cell_type": "code",
   "execution_count": 46,
   "outputs": [
    {
     "data": {
      "text/plain": "dict"
     },
     "execution_count": 46,
     "metadata": {},
     "output_type": "execute_result"
    }
   ],
   "source": [
    "type(data)"
   ],
   "metadata": {
    "collapsed": false,
    "pycharm": {
     "name": "#%%\n"
    }
   }
  },
  {
   "cell_type": "code",
   "execution_count": 3,
   "outputs": [
    {
     "data": {
      "text/plain": "[('Bolivia', 'location.location.adjoin_s', 'm.059020c'),\n ('Bolivia', 'location.location.adjoin_s', 'm.03yvv83'),\n ('Bolivia', 'location.location.adjoin_s', 'm.0590206'),\n ('Bolivia', 'location.location.adjoin_s', 'm.059020j'),\n ('Bolivia', 'location.location.adjoin_s', 'm.02ws93m'),\n ('m.059020j', 'location.adjoining_relationship.adjoins', 'Argentina'),\n ('m.03yvv83', 'location.adjoining_relationship.adjoins', 'Peru'),\n ('m.0590206', 'location.adjoining_relationship.adjoins', 'Chile'),\n ('m.059020c', 'location.adjoining_relationship.adjoins', 'Paraguay'),\n ('m.02ws93m', 'location.adjoining_relationship.adjoins', 'Brazil')]"
     },
     "execution_count": 3,
     "metadata": {},
     "output_type": "execute_result"
    }
   ],
   "source": [
    "data[\"WebQTest-823\"]"
   ],
   "metadata": {
    "collapsed": false,
    "pycharm": {
     "name": "#%%\n"
    }
   }
  },
  {
   "cell_type": "code",
   "execution_count": 50,
   "outputs": [
    {
     "data": {
      "text/plain": "tensor([[1, 0],\n        [1, 0],\n        [1, 0],\n        [0, 1],\n        [0, 1],\n        [0, 1],\n        [1, 0]])"
     },
     "execution_count": 50,
     "metadata": {},
     "output_type": "execute_result"
    }
   ],
   "source": [
    "import torch.nn.functional as F\n",
    "F.one_hot(torch.tensor([0,0,0,1,1,1,0]).long(), num_classes=2)"
   ],
   "metadata": {
    "collapsed": false,
    "pycharm": {
     "name": "#%%\n"
    }
   }
  },
  {
   "cell_type": "code",
   "execution_count": 13,
   "outputs": [
    {
     "data": {
      "text/plain": "'What country borders Bolivia and contains GoiÃ¡s?'"
     },
     "execution_count": 13,
     "metadata": {},
     "output_type": "execute_result"
    }
   ],
   "source": [
    "import pickle\n",
    "processed_file = f'./samples/cwq_val_org.pkl'\n",
    "with open(processed_file, 'rb') as f:\n",
    "    data = pickle.load(f)\n",
    "data[2][\"question\"]"
   ],
   "metadata": {
    "collapsed": false,
    "pycharm": {
     "name": "#%%\n"
    }
   }
  },
  {
   "cell_type": "code",
   "execution_count": 14,
   "outputs": [],
   "source": [
    "embs = torch.load(\"./samples/14.pth\")"
   ],
   "metadata": {
    "collapsed": false,
    "pycharm": {
     "name": "#%%\n"
    }
   }
  },
  {
   "cell_type": "code",
   "execution_count": 31,
   "outputs": [
    {
     "data": {
      "text/plain": "['WebQTrn-470_a7a3deb793f57da6521519210692d07b',\n 'WebQTrn-659_c32736bc2120c8c423e1f9825b03fb9d',\n 'WebQTrn-3529_ab1f7e79e43f8a9ffeb41c4a7958ba1a',\n 'WebQTrn-3529_55548390bd42e860db5a4eaa47f41933',\n 'WebQTrn-1816_d924c0e2ecd8ee8289e86c845eff324b',\n 'WebQTrn-3708_01a4413d660ce6c167d24902308c371f',\n 'WebQTrn-2095_d0b7ab9295b2c339d2bc24073e8b989d',\n 'WebQTest-937_9c30227e437d561a395bf8370530b6e6',\n 'WebQTrn-1529_17dce559f069bbd76f045192423e1ce0',\n 'WebQTrn-191_58b0250f2733b0900ac799b2313c8e11',\n 'WebQTrn-1784_64171540ebbcc9d1f823c1963cb718e1',\n 'WebQTrn-1418_783334c8ae46f986277cf8626256e0b6',\n 'WebQTrn-538_7835fa0c9d5a5be03696300d3a289b68',\n 'WebQTest-723_765aa77e645df9635fc02a6bd7266e1a',\n 'WebQTrn-3012_3c285fca47050d6180e517efcdcb892c',\n 'WebQTrn-2686_c3e4efd051fa3ee9af31e20cfa735f1c',\n 'WebQTrn-1625_1bc85cf9eab0a0714557180ac27e91a2',\n 'WebQTrn-1066_4c3cb42d0c0b43866b7fb51c0c9c630d',\n 'WebQTrn-191_20914e3aca9d189989fc61a5be6f7e83',\n 'WebQTrn-314_7307101cc5def332a7d6ec9b44c2b45b']"
     },
     "execution_count": 31,
     "metadata": {},
     "output_type": "execute_result"
    }
   ],
   "source": [
    "[dat for i, dat in enumerate(embs.keys()) if i< 20]"
   ],
   "metadata": {
    "collapsed": false,
    "pycharm": {
     "name": "#%%\n"
    }
   }
  },
  {
   "cell_type": "code",
   "execution_count": 18,
   "outputs": [
    {
     "data": {
      "text/plain": "(torch.Size([510, 1024]), torch.Size([1, 1024]), torch.Size([168, 1024]))"
     },
     "execution_count": 18,
     "metadata": {},
     "output_type": "execute_result"
    }
   ],
   "source": [
    "emb = embs['WebQTest-937_9c30227e437d561a395bf8370530b6e6']\n",
    "emb['entity_embs'].shape, emb['q_emb'].shape, emb['relation_embs'].shape,\n",
    "# emb['entity_embs'].shape[0] == len(data_target['text_entity_list'])\n",
    "# emb['relation_embs'].shape[0] == len(data_target['relation_list'])"
   ],
   "metadata": {
    "collapsed": false,
    "pycharm": {
     "name": "#%%\n"
    }
   }
  },
  {
   "cell_type": "code",
   "execution_count": 37,
   "outputs": [],
   "source": [
    "processed_file = f'./samples/cwq_val_org.pkl'\n",
    "with open(processed_file, 'rb') as f:\n",
    "    data = pickle.load(f)\n",
    "for dat in data:\n",
    "    if dat['id'] == 'WebQTest-823_ed31f9dd431831dbd32a06b958c7c97c':\n",
    "        data_target = dat"
   ],
   "metadata": {
    "collapsed": false,
    "pycharm": {
     "name": "#%%\n"
    }
   }
  },
  {
   "cell_type": "code",
   "execution_count": 38,
   "outputs": [
    {
     "data": {
      "text/plain": "4623"
     },
     "execution_count": 38,
     "metadata": {},
     "output_type": "execute_result"
    }
   ],
   "source": [
    "len(data_target['h_id_list'])"
   ],
   "metadata": {
    "collapsed": false,
    "pycharm": {
     "name": "#%%\n"
    }
   }
  },
  {
   "cell_type": "code",
   "execution_count": 25,
   "outputs": [
    {
     "data": {
      "text/plain": "['base.aareas.administrative_area_level.examples',\n 'base.aareas.schema.administrative_area.administrative_area_type',\n 'base.aareas.schema.administrative_area.administrative_children',\n 'base.aareas.schema.administrative_area.administrative_parent',\n 'base.aareas.schema.administrative_area.pertinent_type']"
     },
     "execution_count": 25,
     "metadata": {},
     "output_type": "execute_result"
    }
   ],
   "source": [
    "data_target['relation_list'][:5]"
   ],
   "metadata": {
    "collapsed": false,
    "pycharm": {
     "name": "#%%\n"
    }
   }
  },
  {
   "cell_type": "code",
   "execution_count": 26,
   "outputs": [
    {
     "data": {
      "text/plain": "['1929 Palestine riots',\n '1936–39 Arab revolt in Palestine',\n '1947–1948 Civil War in Mandatory Palestine',\n '1948 Arab–Israeli War',\n '1948 Palestine war']"
     },
     "execution_count": 26,
     "metadata": {},
     "output_type": "execute_result"
    }
   ],
   "source": [
    "data_target['text_entity_list'][:5]"
   ],
   "metadata": {
    "collapsed": false,
    "pycharm": {
     "name": "#%%\n"
    }
   }
  },
  {
   "cell_type": "code",
   "execution_count": 27,
   "outputs": [
    {
     "data": {
      "text/plain": "['g.11x7vs_wz', 'g.1210xv5p', 'g.12182mtl', 'g.121r_c5j', 'g.1223dz43']"
     },
     "execution_count": 27,
     "metadata": {},
     "output_type": "execute_result"
    }
   ],
   "source": [
    "data_target['non_text_entity_list'][:5]"
   ],
   "metadata": {
    "collapsed": false,
    "pycharm": {
     "name": "#%%\n"
    }
   }
  },
  {
   "cell_type": "code",
   "execution_count": 28,
   "outputs": [
    {
     "data": {
      "text/plain": "[41, 245, 131, 270]"
     },
     "execution_count": 28,
     "metadata": {},
     "output_type": "execute_result"
    }
   ],
   "source": [
    "data_target['h_id_list'][:4]"
   ],
   "metadata": {
    "collapsed": false,
    "pycharm": {
     "name": "#%%\n"
    }
   }
  },
  {
   "cell_type": "code",
   "execution_count": 30,
   "outputs": [
    {
     "data": {
      "text/plain": "['WebQTrn-1430_ac053cda0a7424c48e4809c71171fbed',\n 'WebQTrn-2505_eba9c2e29a1198e8b56c2f7e4210638b',\n 'WebQTest-823_ed31f9dd431831dbd32a06b958c7c97c',\n 'WebQTrn-2181_8d86dc5e03446f0e50fd69bc06ae0658',\n 'WebQTrn-1447_f1ea2e60c0bd4311ef47cc0d7f6c0dd8',\n 'WebQTrn-453_2326103f221042f024262b19814ee9d3',\n 'WebQTrn-453_8c50e30ac5163e6dabfc999a7129a4ea',\n 'WebQTrn-1929_de8581ad379fdf8fb0e03c89e19ead1a',\n 'WebQTrn-970_33a7e145f293d98099b1cd924ec3378f',\n 'WebQTrn-1948_f2ac0ed793fc82b685d4c71e78a53a59',\n 'WebQTest-1081_6118bd42202be020c123831a76c283c6',\n 'WebQTrn-3287_ebfe3c418f7914f9babf21caade27b05',\n 'WebQTrn-2873_143c89d70679c3e5257c93d8e2bc4c67',\n 'WebQTest-1508_872253e47dd6ddaa213ff31eeda8783b',\n 'WebQTrn-2674_831fb3325644a924d433e2b267f6d238',\n 'WebQTrn-860_02bcf2def8fd43213ec01b3c1396b6b9',\n 'WebQTrn-2505_ac82b6d5645072d4ce73abb6e57a55d5',\n 'WebQTest-811_22a085e4a873315a9c2e63361cbd9248',\n 'WebQTrn-2631_770d8b533fd2f564cf8401e6727b03f6',\n 'WebQTest-1638_85f381b8012b4def553954906bc9fafb']"
     },
     "execution_count": 30,
     "metadata": {},
     "output_type": "execute_result"
    }
   ],
   "source": [
    "processed_file = f'./samples/cwq_val_org.pkl'\n",
    "with open(processed_file, 'rb') as f:\n",
    "    data = pickle.load(f)\n",
    "[dat['id'] for i, dat in enumerate(data) if i< 20]"
   ],
   "metadata": {
    "collapsed": false,
    "pycharm": {
     "name": "#%%\n"
    }
   }
  },
  {
   "cell_type": "code",
   "execution_count": 41,
   "outputs": [
    {
     "data": {
      "text/plain": "False"
     },
     "execution_count": 41,
     "metadata": {},
     "output_type": "execute_result"
    }
   ],
   "source": [
    "(\"a\", \"b\", \"c\") in [(\"a\", \"b\", \"c\")]"
   ],
   "metadata": {
    "collapsed": false,
    "pycharm": {
     "name": "#%%\n"
    }
   }
  },
  {
   "cell_type": "code",
   "execution_count": null,
   "outputs": [],
   "source": [],
   "metadata": {
    "collapsed": false,
    "pycharm": {
     "name": "#%%\n"
    }
   }
  }
 ],
 "metadata": {
  "kernelspec": {
   "display_name": "Python 3",
   "language": "python",
   "name": "python3"
  },
  "language_info": {
   "codemirror_mode": {
    "name": "ipython",
    "version": 2
   },
   "file_extension": ".py",
   "mimetype": "text/x-python",
   "name": "python",
   "nbconvert_exporter": "python",
   "pygments_lexer": "ipython2",
   "version": "2.7.6"
  }
 },
 "nbformat": 4,
 "nbformat_minor": 0
}