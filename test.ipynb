{
 "cells": [
  {
   "cell_type": "markdown",
   "source": [
    "<s>[INST]Based on the following triplets from a knowledge graph, please answer the given question. Please keep the answers as simple as possible and return all the possible answers as a list.\n",
    "\n",
    "Triplets:\n",
    "xxx\n",
    "xxx\n",
    "xxx\n",
    "xxx\n",
    "\n",
    "Question:\n",
    "xxx?[/INST]xxxx</s>"
   ],
   "metadata": {
    "collapsed": false,
    "pycharm": {
     "name": "#%% md\n"
    }
   }
  },
  {
   "cell_type": "markdown",
   "source": [
    "bos + bos_inst + inst + triplet + query + eos_inst + labels + eos"
   ],
   "metadata": {
    "collapsed": false,
    "pycharm": {
     "name": "#%% md\n"
    }
   }
  },
  {
   "cell_type": "code",
   "execution_count": 38,
   "outputs": [],
   "source": [
    "import torch\n",
    "# https://github.com/mufeili/LTRoG/tree/dev_mufei/scored_triples\n",
    "data = torch.load(\"./samples/cwq_240905_val.pth\")"
   ],
   "metadata": {
    "collapsed": false,
    "pycharm": {
     "name": "#%%\n"
    }
   }
  },
  {
   "cell_type": "code",
   "execution_count": 6,
   "outputs": [
    {
     "data": {
      "text/plain": "dict"
     },
     "execution_count": 6,
     "metadata": {},
     "output_type": "execute_result"
    }
   ],
   "source": [
    "type(data)"
   ],
   "metadata": {
    "collapsed": false,
    "pycharm": {
     "name": "#%%\n"
    }
   }
  },
  {
   "cell_type": "code",
   "execution_count": 8,
   "outputs": [
    {
     "data": {
      "text/plain": "2837"
     },
     "execution_count": 8,
     "metadata": {},
     "output_type": "execute_result"
    }
   ],
   "source": [
    "len(data.keys())"
   ],
   "metadata": {
    "collapsed": false,
    "pycharm": {
     "name": "#%%\n"
    }
   }
  },
  {
   "cell_type": "code",
   "execution_count": 9,
   "outputs": [],
   "source": [
    "sample = data['WebQTest-823_ed31f9dd431831dbd32a06b958c7c97c']"
   ],
   "metadata": {
    "collapsed": false,
    "pycharm": {
     "name": "#%%\n"
    }
   }
  },
  {
   "cell_type": "code",
   "execution_count": 10,
   "outputs": [
    {
     "data": {
      "text/plain": "dict"
     },
     "execution_count": 10,
     "metadata": {},
     "output_type": "execute_result"
    }
   ],
   "source": [
    "type(sample)"
   ],
   "metadata": {
    "collapsed": false,
    "pycharm": {
     "name": "#%%\n"
    }
   }
  },
  {
   "cell_type": "code",
   "execution_count": 39,
   "outputs": [
    {
     "data": {
      "text/plain": "dict_keys(['question', 'scored_triples', 'q_entity', 'q_entity_in_graph', 'a_entity', 'a_entity_in_graph', 'max_path_length', 'target_relevant_triples'])"
     },
     "execution_count": 39,
     "metadata": {},
     "output_type": "execute_result"
    }
   ],
   "source": [
    "sample.keys()"
   ],
   "metadata": {
    "collapsed": false,
    "pycharm": {
     "name": "#%%\n"
    }
   }
  },
  {
   "cell_type": "code",
   "execution_count": null,
   "outputs": [],
   "source": [],
   "metadata": {
    "collapsed": false,
    "pycharm": {
     "name": "#%%\n"
    }
   }
  },
  {
   "cell_type": "code",
   "execution_count": 42,
   "outputs": [
    {
     "data": {
      "text/plain": "[('2014 Codasur South American Rally Championship',\n  'time.event.locations',\n  'Brazil'),\n ('Amazon rainforest', 'location.location.partially_containedby', 'Brazil'),\n ('1936 Summer Olympics',\n  'olympics.olympic_games.participating_countries',\n  'Brazil'),\n ('Bolivia', 'location.location.partially_contains', 'Amazon rainforest'),\n ('Bolivia',\n  'organization.organization_founder.organizations_founded',\n  'United Nations'),\n ('Americas', 'location.location.contains', 'Brazil'),\n ('FOX Vakanties', 'travel.tour_operator.travel_destinations', 'Brazil'),\n ('Bolivia', 'location.location.partially_contains', 'Río de la Plata Basin'),\n ('Río de la Plata Basin',\n  'location.location.partially_containedby',\n  'Brazil'),\n ('Bolivia',\n  'olympics.olympic_participating_country.olympics_participated_in',\n  '1936 Summer Olympics'),\n ('Bolivia', 'travel.travel_destination.tour_operators', 'FOX Vakanties'),\n ('Bolivia', 'location.location.partially_contains', 'Abuna River'),\n ('Mamoré River', 'geography.river.basin_countries', 'Brazil'),\n ('Bolivia',\n  'location.location.events',\n  '2014 Codasur South American Rally Championship'),\n ('Bolivia', 'location.location.containedby', 'Americas'),\n ('Bolivia', 'location.location.partially_contains', 'Madeira River'),\n ('Bolivia', 'travel.travel_destination.tour_operators', 'Bunnik Tours'),\n ('Bolivia', 'location.location.partially_contains', 'Mamoré River'),\n ('Bolivia', 'location.location.adjoin_s', 'm.02ws93m'),\n ('Guaporé River', 'location.location.partially_containedby', 'Brazil'),\n ('Paraguay River', 'location.location.partially_containedby', 'Brazil'),\n ('Bolivia', 'location.location.partially_contains', 'Paraguay River'),\n ('Abuna River', 'location.location.partially_containedby', 'Brazil'),\n ('Bunnik Tours', 'travel.tour_operator.travel_destinations', 'Brazil'),\n ('m.02ws93m', 'location.adjoining_relationship.adjoins', 'Brazil'),\n ('Presidential system', 'government.form_of_government.countries', 'Brazil'),\n ('Madeira River', 'geography.river.basin_countries', 'Brazil'),\n ('Goiás', 'location.location.containedby', 'Brazil'),\n ('United Nations', 'organization.organization.founders', 'Brazil'),\n ('Bolivia', 'location.country.form_of_government', 'Presidential system'),\n ('Bolivia', 'location.location.partially_contains', 'Guaporé River')]"
     },
     "execution_count": 42,
     "metadata": {},
     "output_type": "execute_result"
    }
   ],
   "source": [
    "sample['target_relevant_triples']"
   ],
   "metadata": {
    "collapsed": false,
    "pycharm": {
     "name": "#%%\n"
    }
   }
  },
  {
   "cell_type": "code",
   "execution_count": 12,
   "outputs": [
    {
     "data": {
      "text/plain": "'What country borders Bolivia and contains GoiÃ¡s?'"
     },
     "execution_count": 12,
     "metadata": {},
     "output_type": "execute_result"
    }
   ],
   "source": [
    "sample['question']"
   ],
   "metadata": {
    "collapsed": false,
    "pycharm": {
     "name": "#%%\n"
    }
   }
  },
  {
   "cell_type": "code",
   "execution_count": 14,
   "outputs": [
    {
     "data": {
      "text/plain": "(['Bolivia', 'Goiás'], ['Bolivia', 'Goiás'])"
     },
     "execution_count": 14,
     "metadata": {},
     "output_type": "execute_result"
    }
   ],
   "source": [
    "sample['q_entity'], sample['q_entity_in_graph']"
   ],
   "metadata": {
    "collapsed": false,
    "pycharm": {
     "name": "#%%\n"
    }
   }
  },
  {
   "cell_type": "code",
   "execution_count": 15,
   "outputs": [
    {
     "data": {
      "text/plain": "(['Brazil'], ['Brazil'])"
     },
     "execution_count": 15,
     "metadata": {},
     "output_type": "execute_result"
    }
   ],
   "source": [
    "sample['a_entity'], sample['a_entity_in_graph']"
   ],
   "metadata": {
    "collapsed": false,
    "pycharm": {
     "name": "#%%\n"
    }
   }
  },
  {
   "cell_type": "code",
   "execution_count": 17,
   "outputs": [
    {
     "data": {
      "text/plain": "4623"
     },
     "execution_count": 17,
     "metadata": {},
     "output_type": "execute_result"
    }
   ],
   "source": [
    "len(sample['scored_triples'])  # all triples"
   ],
   "metadata": {
    "collapsed": false,
    "pycharm": {
     "name": "#%%\n"
    }
   }
  },
  {
   "cell_type": "code",
   "execution_count": 18,
   "outputs": [
    {
     "data": {
      "text/plain": "('Mamoré River',\n 'geography.river.basin_countries',\n 'Brazil',\n 0.8839638829231262)"
     },
     "execution_count": 18,
     "metadata": {},
     "output_type": "execute_result"
    }
   ],
   "source": [
    "sample['scored_triples'][0]"
   ],
   "metadata": {
    "collapsed": false,
    "pycharm": {
     "name": "#%%\n"
    }
   }
  },
  {
   "cell_type": "code",
   "execution_count": 19,
   "outputs": [],
   "source": [
    "import pickle\n",
    "with open('samples/cwq_val_org.pkl', 'rb') as f:\n",
    "    data = pickle.load(f)"
   ],
   "metadata": {
    "collapsed": false,
    "pycharm": {
     "name": "#%%\n"
    }
   }
  },
  {
   "cell_type": "code",
   "execution_count": 23,
   "outputs": [],
   "source": [
    "for item in data:\n",
    "    if item['id'] == 'WebQTest-823_ed31f9dd431831dbd32a06b958c7c97c':\n",
    "        data_item = item"
   ],
   "metadata": {
    "collapsed": false,
    "pycharm": {
     "name": "#%%\n"
    }
   }
  },
  {
   "cell_type": "code",
   "execution_count": 28,
   "outputs": [
    {
     "data": {
      "text/plain": "'base.braziliangovt.politician.phone_contact'"
     },
     "execution_count": 28,
     "metadata": {},
     "output_type": "execute_result"
    }
   ],
   "source": [
    "data_item[\"relation_list\"][data_item[\"r_id_list\"][0]]"
   ],
   "metadata": {
    "collapsed": false,
    "pycharm": {
     "name": "#%%\n"
    }
   }
  },
  {
   "cell_type": "code",
   "execution_count": 30,
   "outputs": [
    {
     "data": {
      "text/plain": "tensor([0., 0., 0., 1.])"
     },
     "execution_count": 30,
     "metadata": {},
     "output_type": "execute_result"
    }
   ],
   "source": [
    "from torch.nn.functional import gumbel_softmax\n",
    "logits = torch.tensor([0.3, 0.5, 0.9, 3.3])\n",
    "gumbel_softmax(logits, hard=True)"
   ],
   "metadata": {
    "collapsed": false,
    "pycharm": {
     "name": "#%%\n"
    }
   }
  },
  {
   "cell_type": "code",
   "execution_count": 32,
   "outputs": [
    {
     "name": "stdout",
     "output_type": "stream",
     "text": [
      "tensor([3, 4, 2])\n",
      "tensor([3, 4, 2])\n"
     ]
    }
   ],
   "source": [
    "import torch\n",
    "\n",
    "# 示例张量\n",
    "tensor = torch.tensor([3, 1, 5, 9, 7])\n",
    "\n",
    "# 找出前3大值，sorted=False\n",
    "values, indices = tensor.topk(3, sorted=False)\n",
    "print(indices)  # 输出: tensor([7, 9, 5])，顺序不固定\n",
    "\n",
    "# 找出前3大值，sorted=True\n",
    "values, indices = tensor.topk(3, sorted=True)\n",
    "print(indices)  # 输出: tensor([9, 7, 5])，按降序排列\n"
   ],
   "metadata": {
    "collapsed": false,
    "pycharm": {
     "name": "#%%\n"
    }
   }
  },
  {
   "cell_type": "code",
   "execution_count": null,
   "outputs": [],
   "source": [
    "import torch"
   ],
   "metadata": {
    "collapsed": false,
    "pycharm": {
     "name": "#%%\n",
     "is_executing": true
    }
   }
  },
  {
   "cell_type": "code",
   "execution_count": 43,
   "outputs": [],
   "source": [
    "data = torch.load(\"./samples/gpt_labeled_webqsp_cleaned.pt\")"
   ],
   "metadata": {
    "collapsed": false,
    "pycharm": {
     "name": "#%%\n"
    }
   }
  },
  {
   "cell_type": "code",
   "execution_count": 44,
   "outputs": [
    {
     "data": {
      "text/plain": "1628"
     },
     "execution_count": 44,
     "metadata": {},
     "output_type": "execute_result"
    }
   ],
   "source": [
    "len(data)"
   ],
   "metadata": {
    "collapsed": false,
    "pycharm": {
     "name": "#%%\n"
    }
   }
  },
  {
   "cell_type": "code",
   "execution_count": 46,
   "outputs": [
    {
     "data": {
      "text/plain": "dict"
     },
     "execution_count": 46,
     "metadata": {},
     "output_type": "execute_result"
    }
   ],
   "source": [
    "type(data)"
   ],
   "metadata": {
    "collapsed": false,
    "pycharm": {
     "name": "#%%\n"
    }
   }
  },
  {
   "cell_type": "code",
   "execution_count": 49,
   "outputs": [
    {
     "data": {
      "text/plain": "[('Jamaica', 'location.country.languages_spoken', 'Jamaican English'),\n ('Jamaican English',\n  'language.human_language.countries_spoken_in',\n  'Jamaica'),\n ('Jamaica', 'location.country.official_language', 'Jamaican English'),\n ('Jamaican Creole English Language',\n  'language.human_language.countries_spoken_in',\n  'Jamaica'),\n ('Jamaica',\n  'location.country.languages_spoken',\n  'Jamaican Creole English Language'),\n ('Jamaican Creole English Language',\n  'language.human_language.main_country',\n  'Jamaica')]"
     },
     "execution_count": 49,
     "metadata": {},
     "output_type": "execute_result"
    }
   ],
   "source": [
    "data[\"WebQTest-823\"]"
   ],
   "metadata": {
    "collapsed": false,
    "pycharm": {
     "name": "#%%\n"
    }
   }
  },
  {
   "cell_type": "code",
   "execution_count": 50,
   "outputs": [
    {
     "data": {
      "text/plain": "tensor([[1, 0],\n        [1, 0],\n        [1, 0],\n        [0, 1],\n        [0, 1],\n        [0, 1],\n        [1, 0]])"
     },
     "execution_count": 50,
     "metadata": {},
     "output_type": "execute_result"
    }
   ],
   "source": [
    "import torch.nn.functional as F\n",
    "F.one_hot(torch.tensor([0,0,0,1,1,1,0]).long(), num_classes=2)"
   ],
   "metadata": {
    "collapsed": false,
    "pycharm": {
     "name": "#%%\n"
    }
   }
  },
  {
   "cell_type": "code",
   "execution_count": null,
   "outputs": [],
   "source": [],
   "metadata": {
    "collapsed": false,
    "pycharm": {
     "name": "#%%\n"
    }
   }
  }
 ],
 "metadata": {
  "kernelspec": {
   "display_name": "Python 3",
   "language": "python",
   "name": "python3"
  },
  "language_info": {
   "codemirror_mode": {
    "name": "ipython",
    "version": 2
   },
   "file_extension": ".py",
   "mimetype": "text/x-python",
   "name": "python",
   "nbconvert_exporter": "python",
   "pygments_lexer": "ipython2",
   "version": "2.7.6"
  }
 },
 "nbformat": 4,
 "nbformat_minor": 0
}