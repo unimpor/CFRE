{
 "cells": [
  {
   "cell_type": "markdown",
   "source": [
    "<s>[INST]Based on the following triplets from a knowledge graph, please answer the given question. Please keep the answers as simple as possible and return all the possible answers as a list.\n",
    "\n",
    "Triplets:\n",
    "xxx\n",
    "xxx\n",
    "xxx\n",
    "xxx\n",
    "\n",
    "Question:\n",
    "xxx?[/INST]xxxx</s>"
   ],
   "metadata": {
    "collapsed": false,
    "pycharm": {
     "name": "#%% md\n"
    }
   }
  },
  {
   "cell_type": "markdown",
   "source": [
    "bos + bos_inst + inst + triplet + query + eos_inst + labels + eos"
   ],
   "metadata": {
    "collapsed": false,
    "pycharm": {
     "name": "#%% md\n"
    }
   }
  }
 ],
 "metadata": {
  "kernelspec": {
   "display_name": "Python 3",
   "language": "python",
   "name": "python3"
  },
  "language_info": {
   "codemirror_mode": {
    "name": "ipython",
    "version": 2
   },
   "file_extension": ".py",
   "mimetype": "text/x-python",
   "name": "python",
   "nbconvert_exporter": "python",
   "pygments_lexer": "ipython2",
   "version": "2.7.6"
  }
 },
 "nbformat": 4,
 "nbformat_minor": 0
}