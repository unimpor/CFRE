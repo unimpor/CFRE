{
 "cells": [
  {
   "cell_type": "code",
   "execution_count": 3,
   "metadata": {},
   "outputs": [
    {
     "name": "stderr",
     "output_type": "stream",
     "text": [
      "/home/comp/cscxliu/miniconda3/envs/derek/lib/python3.10/site-packages/torch_geometric/typing.py:54: UserWarning: An issue occurred while importing 'pyg-lib'. Disabling its usage. Stacktrace: /lib64/libm.so.6: version `GLIBC_2.29' not found (required by /home/comp/cscxliu/miniconda3/envs/derek/lib/python3.10/site-packages/libpyg.so)\n",
      "  warnings.warn(f\"An issue occurred while importing 'pyg-lib'. \"\n",
      "/home/comp/cscxliu/miniconda3/envs/derek/lib/python3.10/site-packages/torch_geometric/typing.py:110: UserWarning: An issue occurred while importing 'torch-sparse'. Disabling its usage. Stacktrace: /lib64/libm.so.6: version `GLIBC_2.29' not found (required by /home/comp/cscxliu/miniconda3/envs/derek/lib/python3.10/site-packages/libpyg.so)\n",
      "  warnings.warn(f\"An issue occurred while importing 'torch-sparse'. \"\n",
      "/home/comp/cscxliu/miniconda3/envs/derek/lib/python3.10/site-packages/tqdm/auto.py:21: TqdmWarning: IProgress not found. Please update jupyter and ipywidgets. See https://ipywidgets.readthedocs.io/en/stable/user_install.html\n",
      "  from .autonotebook import tqdm as notebook_tqdm\n",
      "2025-03-31 00:55:35,321\tINFO util.py:154 -- Missing packages: ['ipywidgets']. Run `pip install -U ipywidgets`, then restart the notebook server for rich notebook output.\n"
     ]
    }
   ],
   "source": [
    "import torch\n",
    "import yaml\n",
    "import numpy as np\n",
    "import pickle\n",
    "from src.datasets import RetrievalDatasetWithoutEmb\n",
    "from src.models import LLMs\n",
    "from src.utils import print_log"
   ]
  },
  {
   "cell_type": "code",
   "execution_count": 2,
   "metadata": {},
   "outputs": [],
   "source": [
    "def print_(v):\n",
    "    for i in v:\n",
    "        print(i)"
   ]
  },
  {
   "cell_type": "code",
   "execution_count": 3,
   "metadata": {},
   "outputs": [],
   "source": [
    "def get_all_triplets(sample):\n",
    "    all_entities = sample[\"text_entity_list\"] + sample[\"non_text_entity_list\"]\n",
    "    all_relations = sample[\"relation_list\"]\n",
    "    h_id_list, r_id_list, t_id_list = sample[\"h_id_list\"], sample[\"r_id_list\"], sample[\"t_id_list\"]\n",
    "    all_triplets = [(all_entities[h], all_relations[r], all_entities[t]) for (h,r,t) in zip(h_id_list, r_id_list, t_id_list)]\n",
    "    return all_triplets"
   ]
  },
  {
   "cell_type": "code",
   "execution_count": 4,
   "metadata": {},
   "outputs": [
    {
     "name": "stderr",
     "output_type": "stream",
     "text": [
      "/tmp/ipykernel_3164316/3524735000.py:2: FutureWarning: You are using `torch.load` with `weights_only=False` (the current default value), which uses the default pickle module implicitly. It is possible to construct malicious pickle data which will execute arbitrary code during unpickling (See https://github.com/pytorch/pytorch/blob/main/SECURITY.md#untrusted-models for more details). In a future release, the default value for `weights_only` will be flipped to `True`. This limits the functions that could be executed during unpickling. Arbitrary objects will no longer be allowed to be loaded via this mode unless they are explicitly allowlisted by the user via `torch.serialization.add_safe_globals`. We recommend you start setting `weights_only=True` for any use case where you don't have full control of the loaded file. Please open an issue on GitHub for any issues related to this experimental feature.\n",
      "  llm_refined_data = torch.load(\"logging_detection/grailqa/gpt-4o-mini/DDE/path-detection-test/evaluation.pth\")\n"
     ]
    }
   ],
   "source": [
    "import torch\n",
    "llm_refined_data = torch.load(\"logging_detection/grailqa/gpt-4o-mini/DDE/path-detection-test/evaluation.pth\")"
   ]
  },
  {
   "cell_type": "code",
   "execution_count": 5,
   "metadata": {},
   "outputs": [
    {
     "name": "stderr",
     "output_type": "stream",
     "text": [
      "/tmp/ipykernel_3164316/1227355272.py:1: FutureWarning: You are using `torch.load` with `weights_only=False` (the current default value), which uses the default pickle module implicitly. It is possible to construct malicious pickle data which will execute arbitrary code during unpickling (See https://github.com/pytorch/pytorch/blob/main/SECURITY.md#untrusted-models for more details). In a future release, the default value for `weights_only` will be flipped to `True`. This limits the functions that could be executed during unpickling. Arbitrary objects will no longer be allowed to be loaded via this mode unless they are explicitly allowlisted by the user via `torch.serialization.add_safe_globals`. We recommend you start setting `weights_only=True` for any use case where you don't have full control of the loaded file. Please open an issue on GitHub for any issues related to this experimental feature.\n",
      "  org_data = torch.load(\"datasets/grailqa/processed/intermediate.pth\")\n"
     ]
    }
   ],
   "source": [
    "org_data = torch.load(\"datasets/grailqa/processed/intermediate.pth\")"
   ]
  },
  {
   "cell_type": "code",
   "execution_count": 6,
   "metadata": {},
   "outputs": [],
   "source": [
    "dataset = pickle.load(open(\"datasets/grailqa/processed/train.pkl\", \"rb\"))"
   ]
  },
  {
   "cell_type": "code",
   "execution_count": 7,
   "metadata": {},
   "outputs": [],
   "source": [
    "org_data.update(llm_refined_data)"
   ]
  },
  {
   "cell_type": "code",
   "execution_count": 8,
   "metadata": {},
   "outputs": [
    {
     "name": "stderr",
     "output_type": "stream",
     "text": [
      "/tmp/ipykernel_3164316/612739741.py:1: FutureWarning: You are using `torch.load` with `weights_only=False` (the current default value), which uses the default pickle module implicitly. It is possible to construct malicious pickle data which will execute arbitrary code during unpickling (See https://github.com/pytorch/pytorch/blob/main/SECURITY.md#untrusted-models for more details). In a future release, the default value for `weights_only` will be flipped to `True`. This limits the functions that could be executed during unpickling. Arbitrary objects will no longer be allowed to be loaded via this mode unless they are explicitly allowlisted by the user via `torch.serialization.add_safe_globals`. We recommend you start setting `weights_only=True` for any use case where you don't have full control of the loaded file. Please open an issue on GitHub for any issues related to this experimental feature.\n",
      "  shortest_paths_cache = torch.load(\"datasets/grailqa/processed/shortest_path.pth\")\n"
     ]
    }
   ],
   "source": [
    "shortest_paths_cache = torch.load(\"datasets/grailqa/processed/shortest_path.pth\")"
   ]
  },
  {
   "cell_type": "code",
   "execution_count": 9,
   "metadata": {},
   "outputs": [],
   "source": [
    "def get_centric_grpah(all_triplets, q):\n",
    "    selections = []\n",
    "    for triple in all_triplets:\n",
    "        if triple[0] == q and not triple[-1].startswith(('m.', 'g.')):\n",
    "            selections.append([triple])\n",
    "        if triple[-1] == q and not triple[0].startswith(('m.', 'g.')):\n",
    "            selections.append([triple])\n",
    "    return selections"
   ]
  },
  {
   "cell_type": "code",
   "execution_count": 10,
   "metadata": {},
   "outputs": [],
   "source": [
    "def get_all_triplets(sample):\n",
    "    all_entities = sample[\"text_entity_list\"] + sample[\"non_text_entity_list\"]\n",
    "    all_relations = sample[\"relation_list\"]\n",
    "    h_id_list, r_id_list, t_id_list = sample[\"h_id_list\"], sample[\"r_id_list\"], sample[\"t_id_list\"]\n",
    "    all_triplets = [(all_entities[h], all_relations[r], all_entities[t]) for (h, r, t) in zip(h_id_list, r_id_list, t_id_list)]\n",
    "    return all_triplets\n",
    "\n",
    "def get_logic_from_path(path):\n",
    "    return tuple(triple[1] for triple in path)\n",
    "\n",
    "def get_entities_from_path(path):\n",
    "    return [triple[0] for triple in path] + [path[-1][-1]]"
   ]
  },
  {
   "cell_type": "code",
   "execution_count": 15,
   "metadata": {},
   "outputs": [],
   "source": [
    "org_new = {}\n",
    "for id, selection_paths in org_data.items():\n",
    "    sample = [d for d in dataset if d['id'] == id][0]\n",
    "    q_entities = sample['q_entity']\n",
    "    if not selection_paths or max(len(path) for path in selection_paths) == 0 or sample[\"a_entity\"] == ['null']:\n",
    "        org_new[id] = []\n",
    "    # get template logic, we aim to find candidates whose logic is in templates\n",
    "    template_logic_q = [get_logic_from_path(p) for p in selection_paths if p[0][0] in q_entities or p[-1][-1] in q_entities]\n",
    "    template_logic_a = [get_logic_from_path(p) for p in selection_paths if not (p[0][0] in q_entities or p[-1][-1] in q_entities)]\n",
    "\n",
    "    candidates_q, candidates_a, final_select = [], [], []\n",
    "    shortest_paths = shortest_paths_cache[id]\n",
    "    # For normal cases, candidates include shortest paths\n",
    "    candidates_q += shortest_paths\n",
    "    \n",
    "    all_triplets = get_all_triplets(sample)\n",
    "    if sample['function'] == 'count':\n",
    "        # For count type, candidate include Q-centric grpah\n",
    "        candidates_q = get_centric_grpah(all_triplets, sample['q_entity'][0])\n",
    "    if sample['function'] not in ['count', 'none']:\n",
    "        # For others, candidate include A-centric graph\n",
    "        seed_set = set()\n",
    "        for p in shortest_paths:\n",
    "            seed_set |= set(get_entities_from_path(p))\n",
    "        seed_set -= set(sample['q_entity'])\n",
    "        \n",
    "        for a in seed_set:\n",
    "            candidates_a += get_centric_grpah(all_triplets, a)\n",
    "    \n",
    "    for p in candidates_q:\n",
    "        if get_logic_from_path(p) in template_logic_q:\n",
    "            final_select.append(p)\n",
    "    for p in candidates_a:\n",
    "        if get_logic_from_path(p) in template_logic_a:\n",
    "            final_select.append(p)\n",
    "    org_new[id] = final_select\n"
   ]
  },
  {
   "cell_type": "code",
   "execution_count": 16,
   "metadata": {},
   "outputs": [],
   "source": [
    "torch.save(org_new, \"datasets/grailqa/processed/refined_path.pth\")"
   ]
  }
 ],
 "metadata": {
  "kernelspec": {
   "display_name": "derek",
   "language": "python",
   "name": "python3"
  },
  "language_info": {
   "codemirror_mode": {
    "name": "ipython",
    "version": 3
   },
   "file_extension": ".py",
   "mimetype": "text/x-python",
   "name": "python",
   "nbconvert_exporter": "python",
   "pygments_lexer": "ipython3",
   "version": "3.10.15"
  }
 },
 "nbformat": 4,
 "nbformat_minor": 2
}
