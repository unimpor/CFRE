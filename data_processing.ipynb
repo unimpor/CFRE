{
 "cells": [
  {
   "cell_type": "code",
   "execution_count": 17,
   "metadata": {
    "collapsed": true,
    "pycharm": {
     "name": "#%%\n"
    }
   },
   "outputs": [],
   "source": [
    "import os\n",
    "from os.path import join as opj\n",
    "import pickle\n",
    "import numpy as np\n",
    "import torch.nn.functional as F\n",
    "import torch"
   ]
  },
  {
   "cell_type": "markdown",
   "source": [
    "### Example code of processing Webqsp"
   ],
   "metadata": {
    "collapsed": false,
    "pycharm": {
     "name": "#%% md\n"
    }
   }
  },
  {
   "cell_type": "markdown",
   "source": [
    "#### 1. Load raw, embedding, and scores"
   ],
   "metadata": {
    "collapsed": false,
    "pycharm": {
     "name": "#%% md\n"
    }
   }
  },
  {
   "cell_type": "code",
   "execution_count": 2,
   "outputs": [],
   "source": [
    "raw_data = pickle.load(open(\"./samples/webqsp_val_raw.pkl\", \"rb\"))"
   ],
   "metadata": {
    "collapsed": false,
    "pycharm": {
     "name": "#%%\n"
    }
   }
  },
  {
   "cell_type": "code",
   "execution_count": 4,
   "outputs": [],
   "source": [
    "scored_data = torch.load(\"./samples/webqsp_241028_val.pth\")"
   ],
   "metadata": {
    "collapsed": false,
    "pycharm": {
     "name": "#%%\n"
    }
   }
  },
  {
   "cell_type": "code",
   "execution_count": 25,
   "outputs": [
    {
     "data": {
      "text/plain": "dict_keys(['question', 'scored_triples', 'q_entity_in_graph', 'a_entity_in_graph', 'max_path_length', 'target_relevant_triples'])"
     },
     "execution_count": 25,
     "metadata": {},
     "output_type": "execute_result"
    }
   ],
   "source": [
    "scored_data['WebQTrn-11'].keys()"
   ],
   "metadata": {
    "collapsed": false,
    "pycharm": {
     "name": "#%%\n"
    }
   }
  },
  {
   "cell_type": "code",
   "execution_count": 5,
   "outputs": [],
   "source": [
    "embedding1 = torch.load(\"./samples/0.pth\")\n",
    "embedding2 = torch.load(\"./samples/1.pth\")\n",
    "embeddings = {**embedding1, **embedding2}"
   ],
   "metadata": {
    "collapsed": false,
    "pycharm": {
     "name": "#%%\n"
    }
   }
  },
  {
   "cell_type": "code",
   "execution_count": 10,
   "outputs": [],
   "source": [
    "for idx, (key1, key2) in enumerate(zip(embeddings.keys(), scored_data.keys())):\n",
    "    assert key1 == raw_data[idx]['id'] == key2"
   ],
   "metadata": {
    "collapsed": false,
    "pycharm": {
     "name": "#%%\n"
    }
   }
  },
  {
   "cell_type": "markdown",
   "source": [
    "#### 2. Filtering"
   ],
   "metadata": {
    "collapsed": false,
    "pycharm": {
     "name": "#%% md\n"
    }
   }
  },
  {
   "cell_type": "code",
   "execution_count": 11,
   "outputs": [],
   "source": [
    "processed_data = []"
   ],
   "metadata": {
    "collapsed": false,
    "pycharm": {
     "name": "#%%\n"
    }
   }
  },
  {
   "cell_type": "code",
   "execution_count": 15,
   "outputs": [],
   "source": [
    "filter_K = 300"
   ],
   "metadata": {
    "collapsed": false,
    "pycharm": {
     "name": "#%%\n"
    }
   }
  },
  {
   "cell_type": "code",
   "execution_count": null,
   "outputs": [],
   "source": [
    "for sample in raw_data:\n",
    "    processed_sample = {}\n",
    "    sample_id = sample['id']\n",
    "    scored_sample = scored_data[sample_id]\n",
    "    sample_embd = embeddings[sample_id]\n",
    "    if scored_sample['max_path_length'] in [None, 0]:\n",
    "        continue\n",
    "\n",
    "    fh_id_list, fr_id_list, ft_id_list = [], [], []\n",
    "\n",
    "    scored_triplets = scored_sample['scored_triples']\n",
    "    assert len(scored_triplets) == len(sample[\"h_id_list\"])\n",
    "    filtered_triplets = [(t[0], t[1], t[2]) for idx, t in enumerate(scored_triplets) if idx < filter_K]\n",
    "\n",
    "    # Find preserved (h,r,t) id.\n",
    "    entity_list = sample['text_entity_list'] + sample['non_text_entity_list']\n",
    "    relation_list = sample['relation_list']\n",
    "\n",
    "    for h_id, r_id, t_id in zip(sample['h_id_list'], sample['r_id_list'], sample['t_id_list']):\n",
    "        h, r, t = entity_list[h_id], relation_list[r_id], entity_list[t_id]\n",
    "        if (h, r, t) in filtered_triplets:\n",
    "            fh_id_list.append(h_id)\n",
    "            fr_id_list.append(r_id)\n",
    "            ft_id_list.append(t_id)\n",
    "    assert len(fh_id_list) == len(fr_id_list) == len(ft_id_list) == filter_K\n",
    "    # Get filtered node & edge embeddings, and edge-index\n",
    "    # 1. edge attribute\n",
    "    edge_attr = sample_embd['relation_embs'][fr_id_list]\n",
    "    # 2. node embeddings\n",
    "    entity_embeddings = torch.cat([\n",
    "                sample_embd['entity_embs'],\n",
    "                torch.zeros(len(sample['non_text_entity_list']), sample_embd['entity_embs'].size(1))\n",
    "                ], dim=0)\n",
    "    selected_nodes = torch.unique(fh_id_list + ft_id_list)\n",
    "    new_entity_embeddings = entity_embeddings[selected_nodes]\n",
    "    # 3. edge index, from old idx to new idx\n",
    "    idx_mapping = {old_idx: new_idx for new_idx, old_idx in enumerate(selected_nodes)}\n",
    "    edge_index_org = np.stack([fh_id_list, ft_id_list], dim=0)\n",
    "    edge_index = np.vectorize(idx_mapping.get)(edge_index_org)\n",
    "\n",
    "    processed_sample = {\n",
    "        \"edge_index\": edge_index,\n",
    "        \"x\": new_entity_embeddings,\n",
    "        \"edge_attr\": edge_attr,\n",
    "        \"triplets\": filtered_triplets,\n",
    "        'relevant_triples': scored_data['target_relevant_triples'],\n",
    "        \"id\": sample_id,\n",
    "        \"q\": sample['question'],\n",
    "        \"q_embd\": sample_embd['q_emb'],\n",
    "    }\n",
    "    break\n"
   ],
   "metadata": {
    "collapsed": false,
    "pycharm": {
     "name": "#%%\n"
    }
   }
  },
  {
   "cell_type": "code",
   "execution_count": 24,
   "outputs": [
    {
     "data": {
      "text/plain": "[('Bangkok National Museum',\n  'travel.tourist_attraction.near_travel_destination',\n  'Bangkok'),\n ('Thonburi', 'travel.tourist_attraction.near_travel_destination', 'Bangkok'),\n ('Bangkok',\n  'travel.travel_destination.tourist_attractions',\n  'Bangkok Aquarium'),\n ('Bangkok', 'travel.travel_destination.tourist_attractions', 'Khaosan Road'),\n ('Bangkok',\n  'travel.travel_destination.tourist_attractions',\n  'Rajamangala Stadium'),\n ('Bangkok',\n  'travel.travel_destination.tourist_attractions',\n  'Democracy Monument'),\n ('Samutprakarn Crocodile Farm and Zoo',\n  'travel.tourist_attraction.near_travel_destination',\n  'Bangkok'),\n ('Bangkok',\n  'travel.travel_destination.tourist_attractions',\n  'Chatuchak Park'),\n ('Siam Park City',\n  'travel.tourist_attraction.near_travel_destination',\n  'Bangkok'),\n ('Bangkok', 'travel.travel_destination.tourist_attractions', 'Golden Buddha'),\n ('Bangkok', 'travel.travel_destination.tourist_attractions', 'Thonburi'),\n ('Bangkok International Trade and Exhibition Centre',\n  'travel.tourist_attraction.near_travel_destination',\n  'Bangkok'),\n ('Bangkok', 'travel.travel_destination.tourist_attractions', 'Safari World'),\n ('Chatuchak Park',\n  'travel.tourist_attraction.near_travel_destination',\n  'Bangkok'),\n ('Bangkok',\n  'travel.travel_destination.tourist_attractions',\n  'Samutprakarn Crocodile Farm and Zoo'),\n ('Lumphini Park',\n  'travel.tourist_attraction.near_travel_destination',\n  'Bangkok'),\n ('Bangkok Aquarium',\n  'travel.tourist_attraction.near_travel_destination',\n  'Bangkok'),\n ('Bangkok', 'travel.travel_destination.tourist_attractions', 'Wat Arun'),\n ('Bangkok',\n  'travel.travel_destination.tourist_attractions',\n  'Wat Ratchanatdaram'),\n ('Vimanmek Mansion',\n  'travel.tourist_attraction.near_travel_destination',\n  'Bangkok'),\n ('Democracy Monument',\n  'travel.tourist_attraction.near_travel_destination',\n  'Bangkok'),\n ('Bangkok', 'travel.travel_destination.tourist_attractions', 'Lumphini Park'),\n ('Bangkok', 'travel.travel_destination.tourist_attractions', 'Wat Suthat'),\n ('Magic Land',\n  'travel.tourist_attraction.near_travel_destination',\n  'Bangkok'),\n ('Bangkok',\n  'travel.travel_destination.tourist_attractions',\n  'Siam Park City'),\n ('Bangkok', 'travel.travel_destination.tourist_attractions', 'Wat Pho'),\n ('Bangkok',\n  'travel.travel_destination.tourist_attractions',\n  'Vimanmek Mansion'),\n ('Khaosan Road',\n  'travel.tourist_attraction.near_travel_destination',\n  'Bangkok'),\n ('Bangkok', 'travel.travel_destination.tourist_attractions', 'Magic Land'),\n ('Rajamangala Stadium', 'location.location.containedby', 'Bangkok'),\n ('Grand Palace',\n  'travel.tourist_attraction.near_travel_destination',\n  'Bangkok'),\n ('Erawan Shrine',\n  'travel.tourist_attraction.near_travel_destination',\n  'Bangkok'),\n ('Bangkok', 'travel.travel_destination.tourist_attractions', 'Dusit Zoo'),\n ('Ananta Samakhom Throne Hall', 'location.location.containedby', 'Bangkok'),\n ('Bangkok',\n  'travel.travel_destination.tourist_attractions',\n  'Ananta Samakhom Throne Hall'),\n ('Wat Saket', 'location.location.containedby', 'Bangkok'),\n ('Dusit Zoo', 'travel.tourist_attraction.near_travel_destination', 'Bangkok'),\n ('Golden Buddha', 'location.location.containedby', 'Bangkok'),\n ('Bangkok',\n  'travel.travel_destination.tourist_attractions',\n  'Jim Thompson House'),\n ('Bangkok',\n  'travel.travel_destination.tourist_attractions',\n  'Bangkok International Trade and Exhibition Centre'),\n ('Wat Pho', 'travel.tourist_attraction.near_travel_destination', 'Bangkok'),\n ('Wat Phra Kaew',\n  'travel.tourist_attraction.near_travel_destination',\n  'Bangkok'),\n ('Wat Ratchanatdaram', 'location.location.containedby', 'Bangkok'),\n ('Bangkok', 'travel.travel_destination.tourist_attractions', 'Wat Saket'),\n ('Bangkok',\n  'travel.travel_destination.tourist_attractions',\n  'Bangkok National Museum'),\n ('Wat Suthat',\n  'travel.tourist_attraction.near_travel_destination',\n  'Bangkok'),\n ('Safari World', 'location.location.containedby', 'Bangkok'),\n ('Bangkok', 'travel.travel_destination.tourist_attractions', 'Grand Palace'),\n ('Wat Benchamabophit', 'location.location.containedby', 'Bangkok'),\n ('Bangkok', 'travel.travel_destination.tourist_attractions', 'Wat Phra Kaew'),\n ('Jim Thompson House', 'location.location.containedby', 'Bangkok'),\n ('Wat Arun', 'travel.tourist_attraction.near_travel_destination', 'Bangkok'),\n ('Bangkok', 'travel.travel_destination.tourist_attractions', 'Erawan Shrine'),\n ('Bangkok',\n  'travel.travel_destination.tourist_attractions',\n  'Wat Benchamabophit')]"
     },
     "execution_count": 24,
     "metadata": {},
     "output_type": "execute_result"
    }
   ],
   "source": [
    "scored_data['WebQTrn-126']['target_relevant_triples']"
   ],
   "metadata": {
    "collapsed": false,
    "pycharm": {
     "name": "#%%\n"
    }
   }
  },
  {
   "cell_type": "code",
   "execution_count": 26,
   "outputs": [],
   "source": [
    "data_process = torch.load(\"./samples/processed_webqsp_val_300.pth\")"
   ],
   "metadata": {
    "collapsed": false,
    "pycharm": {
     "name": "#%%\n"
    }
   }
  },
  {
   "cell_type": "code",
   "execution_count": 27,
   "outputs": [
    {
     "data": {
      "text/plain": "[]"
     },
     "execution_count": 27,
     "metadata": {},
     "output_type": "execute_result"
    }
   ],
   "source": [
    "data_process[0]['relevant_idx']"
   ],
   "metadata": {
    "collapsed": false,
    "pycharm": {
     "name": "#%%\n"
    }
   }
  },
  {
   "cell_type": "code",
   "execution_count": 28,
   "outputs": [
    {
     "name": "stdout",
     "output_type": "stream",
     "text": [
      "tensor([[3, 4, 5],\n",
      "        [0, 1, 2]])\n"
     ]
    }
   ],
   "source": [
    "import torch\n",
    "\n",
    "# 假设 edge_index 是你的边索引张量\n",
    "edge_index = torch.tensor([[0, 1, 2],  # 第一行\n",
    "                           [3, 4, 5]]) # 第二行\n",
    "\n",
    "# 颠倒两行\n",
    "flipped_edge_index = edge_index.flip(0)\n",
    "\n",
    "print(flipped_edge_index)"
   ],
   "metadata": {
    "collapsed": false,
    "pycharm": {
     "name": "#%%\n"
    }
   }
  },
  {
   "cell_type": "code",
   "execution_count": null,
   "outputs": [],
   "source": [],
   "metadata": {
    "collapsed": false,
    "pycharm": {
     "name": "#%%\n"
    }
   }
  }
 ],
 "metadata": {
  "kernelspec": {
   "display_name": "Python 3",
   "language": "python",
   "name": "python3"
  },
  "language_info": {
   "codemirror_mode": {
    "name": "ipython",
    "version": 2
   },
   "file_extension": ".py",
   "mimetype": "text/x-python",
   "name": "python",
   "nbconvert_exporter": "python",
   "pygments_lexer": "ipython2",
   "version": "2.7.6"
  }
 },
 "nbformat": 4,
 "nbformat_minor": 0
}